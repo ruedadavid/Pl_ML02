{
 "cells": [
  {
   "cell_type": "markdown",
   "metadata": {},
   "source": [
    "# Modelo supervisado regresión Lineal\n",
    "\n",
    "Platzi - Curso de Fundamentos Prácticos de Machine Learning\n",
    "\n",
    "Por: David Alonso Rueda Rodríguez - daruedar@correo.udistrital.edu.co\n",
    "\n",
    "Tema: Modelo supervisado regresión Lineal.\n",
    "\n",
    "## Objetivo de la actividad:\n",
    "\n",
    "Aplicar el modelo supervisado regresión lineal a 2 grupos de datos\n",
    "\n",
    "## Temas trabajados\n",
    "\n",
    "A continuación, listado de actividades trabajadas:\n",
    "    \n",
    "### Situación Problémica 01\n",
    "\n",
    "    1. Describir el problema\n",
    "    2. Describir los datos cargados utilizados\n",
    "    3. Aplicar algoritmo\n",
    "    4. Analizar\n",
    "  \n",
    "#### Fuente de repositorio de datos:\n",
    "\n",
    "[Datos suministrados en el curso](../src/salarios.csv)\n",
    "\n",
    "#### Librerías requeridas:\n",
    "\n",
    "[Pandas](https://pandas.pydata.org/) - [Matplotlib](https://matplotlib.org/) - [Scikit-learn](https://scikit-learn.org/stable/)\n",
    "\n",
    "#### Listado de versiones\n",
    "\n",
    "- 000 Se agrega partición de los datos de entrenamiento, se entrena al modelo y se evalua el rendimiento, se agrega matriz para evaluar correlación de los datos cargados.\n",
    "\n",
    "- 01 Descripción inicial de los datos, y del problema a desarollar\n"
   ]
  },
  {
   "cell_type": "markdown",
   "metadata": {},
   "source": [
    "## 1. Describir el problema\n",
    "\n",
    "Se desea predecir el salario de un programador utilizando como variable independiente la experiencia de la persona."
   ]
  },
  {
   "cell_type": "markdown",
   "metadata": {},
   "source": [
    "## 2. Describir los datos cargados utilizados"
   ]
  },
  {
   "cell_type": "code",
   "execution_count": 1,
   "metadata": {},
   "outputs": [],
   "source": [
    "import pandas as pd\n",
    "import matplotlib.pyplot as plt\n",
    "import seaborn as sns"
   ]
  },
  {
   "cell_type": "code",
   "execution_count": 2,
   "metadata": {},
   "outputs": [
    {
     "data": {
      "text/html": [
       "<div>\n",
       "<style scoped>\n",
       "    .dataframe tbody tr th:only-of-type {\n",
       "        vertical-align: middle;\n",
       "    }\n",
       "\n",
       "    .dataframe tbody tr th {\n",
       "        vertical-align: top;\n",
       "    }\n",
       "\n",
       "    .dataframe thead th {\n",
       "        text-align: right;\n",
       "    }\n",
       "</style>\n",
       "<table border=\"1\" class=\"dataframe\">\n",
       "  <thead>\n",
       "    <tr style=\"text-align: right;\">\n",
       "      <th></th>\n",
       "      <th>Aexperiencia</th>\n",
       "      <th>Salario</th>\n",
       "    </tr>\n",
       "  </thead>\n",
       "  <tbody>\n",
       "    <tr>\n",
       "      <th>0</th>\n",
       "      <td>10.0</td>\n",
       "      <td>42500</td>\n",
       "    </tr>\n",
       "    <tr>\n",
       "      <th>1</th>\n",
       "      <td>8.0</td>\n",
       "      <td>36302</td>\n",
       "    </tr>\n",
       "    <tr>\n",
       "      <th>2</th>\n",
       "      <td>5.4</td>\n",
       "      <td>35000</td>\n",
       "    </tr>\n",
       "    <tr>\n",
       "      <th>3</th>\n",
       "      <td>2.5</td>\n",
       "      <td>18103</td>\n",
       "    </tr>\n",
       "    <tr>\n",
       "      <th>4</th>\n",
       "      <td>1.0</td>\n",
       "      <td>15000</td>\n",
       "    </tr>\n",
       "  </tbody>\n",
       "</table>\n",
       "</div>"
      ],
      "text/plain": [
       "   Aexperiencia  Salario\n",
       "0          10.0    42500\n",
       "1           8.0    36302\n",
       "2           5.4    35000\n",
       "3           2.5    18103\n",
       "4           1.0    15000"
      ]
     },
     "execution_count": 2,
     "metadata": {},
     "output_type": "execute_result"
    }
   ],
   "source": [
    "datos = pd.read_csv(\"../src/salarios.csv\")\n",
    "datos.head()"
   ]
  },
  {
   "cell_type": "code",
   "execution_count": 3,
   "metadata": {},
   "outputs": [
    {
     "name": "stdout",
     "output_type": "stream",
     "text": [
      "- Cantidad de muestras:30 \n",
      "- Cantidad de características:2\n"
     ]
    }
   ],
   "source": [
    "print(\"- Cantidad de muestras:{0} \\n- Cantidad de características:{1}\" .format(datos.shape[0], datos.shape[1]))"
   ]
  },
  {
   "cell_type": "markdown",
   "metadata": {},
   "source": [
    "Los datos suministrados tienen un total de 30 ejemplos y 2 características que describen:\n",
    "\n",
    "- Aexperiencia = dato de experiencia en años de un programador\n",
    "- Salario = dato del salario anual expresado en unidades monetarias"
   ]
  },
  {
   "cell_type": "markdown",
   "metadata": {},
   "source": [
    "#### Descripción de los datos cargados"
   ]
  },
  {
   "cell_type": "code",
   "execution_count": 4,
   "metadata": {},
   "outputs": [
    {
     "data": {
      "text/html": [
       "<div>\n",
       "<style scoped>\n",
       "    .dataframe tbody tr th:only-of-type {\n",
       "        vertical-align: middle;\n",
       "    }\n",
       "\n",
       "    .dataframe tbody tr th {\n",
       "        vertical-align: top;\n",
       "    }\n",
       "\n",
       "    .dataframe thead th {\n",
       "        text-align: right;\n",
       "    }\n",
       "</style>\n",
       "<table border=\"1\" class=\"dataframe\">\n",
       "  <thead>\n",
       "    <tr style=\"text-align: right;\">\n",
       "      <th></th>\n",
       "      <th>Aexperiencia</th>\n",
       "      <th>Salario</th>\n",
       "    </tr>\n",
       "  </thead>\n",
       "  <tbody>\n",
       "    <tr>\n",
       "      <th>count</th>\n",
       "      <td>30.000000</td>\n",
       "      <td>30.000000</td>\n",
       "    </tr>\n",
       "    <tr>\n",
       "      <th>mean</th>\n",
       "      <td>4.870000</td>\n",
       "      <td>27107.100000</td>\n",
       "    </tr>\n",
       "    <tr>\n",
       "      <th>std</th>\n",
       "      <td>2.899721</td>\n",
       "      <td>9458.745839</td>\n",
       "    </tr>\n",
       "    <tr>\n",
       "      <th>min</th>\n",
       "      <td>1.000000</td>\n",
       "      <td>15000.000000</td>\n",
       "    </tr>\n",
       "    <tr>\n",
       "      <th>25%</th>\n",
       "      <td>2.625000</td>\n",
       "      <td>18300.500000</td>\n",
       "    </tr>\n",
       "    <tr>\n",
       "      <th>50%</th>\n",
       "      <td>4.000000</td>\n",
       "      <td>26650.000000</td>\n",
       "    </tr>\n",
       "    <tr>\n",
       "      <th>75%</th>\n",
       "      <td>6.750000</td>\n",
       "      <td>35201.000000</td>\n",
       "    </tr>\n",
       "    <tr>\n",
       "      <th>max</th>\n",
       "      <td>10.000000</td>\n",
       "      <td>42500.000000</td>\n",
       "    </tr>\n",
       "  </tbody>\n",
       "</table>\n",
       "</div>"
      ],
      "text/plain": [
       "       Aexperiencia       Salario\n",
       "count     30.000000     30.000000\n",
       "mean       4.870000  27107.100000\n",
       "std        2.899721   9458.745839\n",
       "min        1.000000  15000.000000\n",
       "25%        2.625000  18300.500000\n",
       "50%        4.000000  26650.000000\n",
       "75%        6.750000  35201.000000\n",
       "max       10.000000  42500.000000"
      ]
     },
     "execution_count": 4,
     "metadata": {},
     "output_type": "execute_result"
    }
   ],
   "source": [
    "datos.describe()"
   ]
  },
  {
   "cell_type": "code",
   "execution_count": 46,
   "metadata": {},
   "outputs": [
    {
     "data": {
      "text/plain": [
       "<matplotlib.legend.Legend at 0x7f4d33118f98>"
      ]
     },
     "execution_count": 46,
     "metadata": {},
     "output_type": "execute_result"
    },
    {
     "data": {
      "image/png": "[encoded data removed]",
      "text/plain": [
       "<Figure size 432x288 with 1 Axes>"
      ]
     },
     "metadata": {},
     "output_type": "display_data"
    }
   ],
   "source": [
    "plt.scatter(datos['Aexperiencia'], datos['Salario'])\n",
    "\n",
    "plt.title(\"\\nSalario de un programador según sus años de experiencia\\n\")\n",
    "plt.xlabel(\"Años de Experiencia\")\n",
    "plt.ylabel(\"Salario\")\n",
    "plt.legend()"
   ]
  },
  {
   "cell_type": "markdown",
   "metadata": {},
   "source": [
    "La matriz de correlación muestra que los datos presentan una correlación positiva."
   ]
  },
  {
   "cell_type": "code",
   "execution_count": 6,
   "metadata": {},
   "outputs": [
    {
     "data": {
      "text/html": [
       "<div>\n",
       "<style scoped>\n",
       "    .dataframe tbody tr th:only-of-type {\n",
       "        vertical-align: middle;\n",
       "    }\n",
       "\n",
       "    .dataframe tbody tr th {\n",
       "        vertical-align: top;\n",
       "    }\n",
       "\n",
       "    .dataframe thead th {\n",
       "        text-align: right;\n",
       "    }\n",
       "</style>\n",
       "<table border=\"1\" class=\"dataframe\">\n",
       "  <thead>\n",
       "    <tr style=\"text-align: right;\">\n",
       "      <th></th>\n",
       "      <th>Aexperiencia</th>\n",
       "      <th>Salario</th>\n",
       "    </tr>\n",
       "  </thead>\n",
       "  <tbody>\n",
       "    <tr>\n",
       "      <th>Aexperiencia</th>\n",
       "      <td>1.000000</td>\n",
       "      <td>0.968738</td>\n",
       "    </tr>\n",
       "    <tr>\n",
       "      <th>Salario</th>\n",
       "      <td>0.968738</td>\n",
       "      <td>1.000000</td>\n",
       "    </tr>\n",
       "  </tbody>\n",
       "</table>\n",
       "</div>"
      ],
      "text/plain": [
       "              Aexperiencia   Salario\n",
       "Aexperiencia      1.000000  0.968738\n",
       "Salario           0.968738  1.000000"
      ]
     },
     "execution_count": 6,
     "metadata": {},
     "output_type": "execute_result"
    }
   ],
   "source": [
    "datos.corr()"
   ]
  },
  {
   "cell_type": "code",
   "execution_count": 7,
   "metadata": {},
   "outputs": [
    {
     "data": {
      "text/plain": [
       "<matplotlib.axes._subplots.AxesSubplot at 0x7f4d36e51dd8>"
      ]
     },
     "execution_count": 7,
     "metadata": {},
     "output_type": "execute_result"
    },
    {
     "data": {
      "image/png": "[encoded data removed]",
      "text/plain": [
       "<Figure size 432x288 with 2 Axes>"
      ]
     },
     "metadata": {},
     "output_type": "display_data"
    }
   ],
   "source": [
    "sns.heatmap(datos.corr()) "
   ]
  },
  {
   "cell_type": "markdown",
   "metadata": {},
   "source": [
    "## 2. Aplicar algoritmo"
   ]
  },
  {
   "cell_type": "code",
   "execution_count": 68,
   "metadata": {},
   "outputs": [],
   "source": [
    "# Importar librerías de Scikit Learn para aplicar machine learning\n",
    "from sklearn.model_selection import train_test_split\n",
    "from sklearn.linear_model import LinearRegression"
   ]
  },
  {
   "cell_type": "markdown",
   "metadata": {},
   "source": [
    "\n",
    "### 2.1 Separación de datos para entrenamiento"
   ]
  },
  {
   "cell_type": "code",
   "execution_count": 60,
   "metadata": {},
   "outputs": [],
   "source": [
    "# Se envia el 70% de los datos para realizar el entrenamiento del modelo\n",
    "x = datos.iloc[:,:-1].values\n",
    "y = datos.iloc[:,:1].values\n",
    "X_train, X_test, Y_train, Y_test = train_test_split (x, y, test_size = 0.3, random_state=0)"
   ]
  },
  {
   "cell_type": "code",
   "execution_count": 69,
   "metadata": {},
   "outputs": [],
   "source": [
    "# Se envia el 70% de los datos para realizar el entrenamiento del modelo\n",
    "x2 = datos['Aexperiencia'].values.reshape(-1,1)\n",
    "y2 = datos['Salario'].values.reshape(-1,1)\n",
    "X_train2, X_test2, Y_train2, Y_test2 = train_test_split (x2, y2, test_size = 0.3)"
   ]
  },
  {
   "cell_type": "markdown",
   "metadata": {},
   "source": [
    "### 2.2 Entrenamiento de modelos"
   ]
  },
  {
   "cell_type": "code",
   "execution_count": 70,
   "metadata": {},
   "outputs": [],
   "source": [
    "# Inicialización de los modelos\n",
    "modelo_lineal = LinearRegression()\n",
    "modelo_lineal2 = LinearRegression()"
   ]
  },
  {
   "cell_type": "code",
   "execution_count": 62,
   "metadata": {},
   "outputs": [
    {
     "data": {
      "text/plain": [
       "LinearRegression(copy_X=True, fit_intercept=True, n_jobs=None,\n",
       "         normalize=False)"
      ]
     },
     "execution_count": 62,
     "metadata": {},
     "output_type": "execute_result"
    }
   ],
   "source": [
    "# Entrenamiento del modelo con llamado de variables iniciales\n",
    "modelo_lineal.fit(X_train, Y_train)"
   ]
  },
  {
   "cell_type": "code",
   "execution_count": 71,
   "metadata": {},
   "outputs": [
    {
     "data": {
      "text/plain": [
       "LinearRegression(copy_X=True, fit_intercept=True, n_jobs=None,\n",
       "         normalize=False)"
      ]
     },
     "execution_count": 71,
     "metadata": {},
     "output_type": "execute_result"
    }
   ],
   "source": [
    "# Entrenamiento del modelo con otra forma de llamado\n",
    "modelo_lineal2.fit(X_train2, Y_train2)"
   ]
  },
  {
   "cell_type": "markdown",
   "metadata": {},
   "source": [
    "## 2.3 Visualización de Resultados"
   ]
  },
  {
   "cell_type": "code",
   "execution_count": 120,
   "metadata": {},
   "outputs": [
    {
     "data": {
      "image/png": "[encoded data removed]",
      "text/plain": [
       "<Figure size 720x720 with 1 Axes>"
      ]
     },
     "metadata": {},
     "output_type": "display_data"
    }
   ],
   "source": [
    "grafico1 = plt.figure(figsize=(10,10))\n",
    "plt.plot(X_train2, modelo_lineal2.predict(X_train2), 'r.-', linewidth=1, label=\"Modelo predictivo\")\n",
    "plt.scatter(X_train2, Y_train2, color = 'blue', label=\"Datos Entrenamiento\")\n",
    "plt.scatter(X_test2, Y_test2, color = 'cyan', label=\"Datos para prueba\")\n",
    "\n",
    "\n",
    "plt.title(\"\\nModelo de predicción para \\nSalario de un programador según sus años de experiencia\\n\")\n",
    "plt.xlabel(\"Años de Experiencia\")\n",
    "plt.ylabel(\"Salario\")\n",
    "plt.legend()\n",
    "plt.show()"
   ]
  },
  {
   "cell_type": "markdown",
   "metadata": {},
   "source": [
    "## 2.4. Evaluación del modelo"
   ]
  },
  {
   "cell_type": "code",
   "execution_count": 122,
   "metadata": {},
   "outputs": [
    {
     "data": {
      "text/plain": [
       "0.90622312583663722"
      ]
     },
     "execution_count": 122,
     "metadata": {},
     "output_type": "execute_result"
    }
   ],
   "source": [
    "modelo_lineal2.score(X_test2, Y_test2)"
   ]
  }
 ],
 "metadata": {
  "kernelspec": {
   "display_name": "Python 3",
   "language": "python",
   "name": "python3"
  },
  "language_info": {
   "codemirror_mode": {
    "name": "ipython",
    "version": 3
   },
   "file_extension": ".py",
   "mimetype": "text/x-python",
   "name": "python",
   "nbconvert_exporter": "python",
   "pygments_lexer": "ipython3",
   "version": "3.6.8"
  }
 },
 "nbformat": 4,
 "nbformat_minor": 2
}
